{
 "cells": [
  {
   "cell_type": "code",
   "execution_count": null,
   "metadata": {},
   "outputs": [],
   "source": [
    "# Import cortex python library\n",
    "from cortex4py.api import Api\n",
    "from cortex4py.query import *\n",
    "import json\n",
    "import time"
   ]
  },
  {
   "cell_type": "code",
   "execution_count": null,
   "metadata": {},
   "outputs": [],
   "source": [
    "# Your API key for Cortex. Create it in Cortex\n",
    "api_key = ''"
   ]
  },
  {
   "cell_type": "code",
   "execution_count": null,
   "metadata": {},
   "outputs": [],
   "source": [
    "# Create the cortex client\n",
    "api = Api('http://localhost:9001', api_key, verify_cert=False)\n"
   ]
  },
  {
   "cell_type": "code",
   "execution_count": null,
   "metadata": {},
   "outputs": [],
   "source": [
    "# Get the list of enabled analyzers\n",
    "for analyzer in api.organizations.get_analyzers():\n",
    "  print(analyzer.name)\n"
   ]
  },
  {
   "cell_type": "code",
   "execution_count": null,
   "metadata": {},
   "outputs": [],
   "source": [
    "# Get analyzer that support the specific data type, domain, url, hash etc\n",
    "for analyzer in api.analyzers.get_by_type('domain'):\n",
    "    print(analyzer.name)"
   ]
  },
  {
   "cell_type": "code",
   "execution_count": null,
   "metadata": {},
   "outputs": [],
   "source": [
    "# Submit IOC to an analyzer, force=1 is to bypass cache result\n",
    "# Domain from https://www.malware-traffic-analysis.net/2020/04/15/index.html\n",
    "vt_job = api.analyzers.run_by_name('VirusTotal_GetReport_3_0', {\n",
    "    'data': 'raihanchow.us',\n",
    "    'dataType': 'domain',\n",
    "    'tlp': 1,\n",
    "    'pap': 2,\n",
    "    'message': 'A suspicious domain',\n",
    "\n",
    "}, force=1)\n",
    "vt_submission_result = vt_job.json()"
   ]
  },
  {
   "cell_type": "code",
   "execution_count": null,
   "metadata": {},
   "outputs": [],
   "source": [
    "vt_submission_result"
   ]
  },
  {
   "cell_type": "code",
   "execution_count": null,
   "metadata": {},
   "outputs": [],
   "source": [
    "_job = api.jobs.get_by_id(vt_job.id)\n",
    "_job.status"
   ]
  },
  {
   "cell_type": "code",
   "execution_count": null,
   "metadata": {},
   "outputs": [],
   "source": [
    "_result = api.jobs.get_report_async(vt_job.id).report\n",
    "_result"
   ]
  },
  {
   "cell_type": "code",
   "execution_count": null,
   "metadata": {},
   "outputs": [],
   "source": [
    "_result['summary']"
   ]
  },
  {
   "cell_type": "code",
   "execution_count": null,
   "metadata": {},
   "outputs": [],
   "source": [
    "# Get all enabled analyzer for an indicator type\n",
    "def get_analyzer(indicator_type):\n",
    "    analyzer_set = set()\n",
    "    for analyzer in api.analyzers.get_by_type(indicator_type):\n",
    "        analyzer_set.add(analyzer.name)\n",
    "    return analyzer_set"
   ]
  },
  {
   "cell_type": "code",
   "execution_count": null,
   "metadata": {},
   "outputs": [],
   "source": [
    "# Submitting to multiple analyzers\n",
    "def analyze(indicator_type, indicator):\n",
    "    '''\n",
    "    Parameters\n",
    "    ----------\n",
    "    indicator_type: str\n",
    "        The type of indicator, could be hash, url, domain, ip, file\n",
    "    indicator: str\n",
    "        The artifact that is being investigated \n",
    "    '''\n",
    "    \n",
    "    job_result_dict = {}\n",
    "    analyzer_set = get_analyzer(indicator_type)\n",
    "    for analyzer in analyzer_set:\n",
    "        job = api.analyzers.run_by_name(analyzer, {\n",
    "            'data': indicator,\n",
    "            'dataType': indicator_type,\n",
    "            'tlp': 1,\n",
    "            'pap': 1, \n",
    "            'message': f'Submission for {indicator} on {analyzer}',\n",
    "        }, force=1)\n",
    "        job_result_dict.update({analyzer:job.id})\n",
    "    return job_result_dict"
   ]
  },
  {
   "cell_type": "code",
   "execution_count": null,
   "metadata": {},
   "outputs": [],
   "source": [
    "def get_result(job_result_dict):\n",
    "    for analyzer, job_id in job_result_dict.items():\n",
    "        time.sleep(3)\n",
    "        _result = api.jobs.get_report_async(job_id).report\n",
    "        print(f\"{analyzer}: {_result['summary']}\")\n",
    "        "
   ]
  },
  {
   "cell_type": "code",
   "execution_count": null,
   "metadata": {},
   "outputs": [],
   "source": [
    "job_result_dict = analyze('domain', 'raihanchow.us')"
   ]
  },
  {
   "cell_type": "code",
   "execution_count": null,
   "metadata": {},
   "outputs": [],
   "source": [
    "get_result(job_result_dict)"
   ]
  },
  {
   "cell_type": "code",
   "execution_count": null,
   "metadata": {},
   "outputs": [],
   "source": [
    "get_result(analyze('domain', 'raihanchow.us'))"
   ]
  },
  {
   "cell_type": "code",
   "execution_count": null,
   "metadata": {},
   "outputs": [],
   "source": []
  },
  {
   "cell_type": "code",
   "execution_count": null,
   "metadata": {},
   "outputs": [],
   "source": []
  }
 ],
 "metadata": {
  "kernelspec": {
   "display_name": "Python 3",
   "language": "python",
   "name": "python3"
  },
  "language_info": {
   "codemirror_mode": {
    "name": "ipython",
    "version": 3
   },
   "file_extension": ".py",
   "mimetype": "text/x-python",
   "name": "python",
   "nbconvert_exporter": "python",
   "pygments_lexer": "ipython3",
   "version": "3.8.5"
  }
 },
 "nbformat": 4,
 "nbformat_minor": 4
}
